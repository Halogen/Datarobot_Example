{
  "nbformat": 4,
  "nbformat_minor": 0,
  "metadata": {
    "colab": {
      "name": "Datarobot_Diabetes.ipynb",
      "provenance": [],
      "authorship_tag": "ABX9TyMi4Yh3F5/1vwC14Jh1FIZ4",
      "include_colab_link": true
    },
    "kernelspec": {
      "name": "python3",
      "display_name": "Python 3"
    },
    "language_info": {
      "name": "python"
    }
  },
  "cells": [
    {
      "cell_type": "markdown",
      "metadata": {
        "id": "view-in-github",
        "colab_type": "text"
      },
      "source": [
        "<a href=\"https://colab.research.google.com/github/Halogen/Datarobot_Example/blob/main/Datarobot_Diabetes.ipynb\" target=\"_parent\"><img src=\"https://colab.research.google.com/assets/colab-badge.svg\" alt=\"Open In Colab\"/></a>"
      ]
    },
    {
      "cell_type": "code",
      "metadata": {
        "colab": {
          "base_uri": "https://localhost:8080/"
        },
        "id": "PWp9luIKygaw",
        "outputId": "b43afe33-7c6a-43b6-9679-0f8f78983b04"
      },
      "source": [
        "##Importing neessary files from drive for the mlops developer package\n",
        "from google.colab import drive\n",
        "drive.mount('/content/drive')\n",
        "%cp - av /content/drive/MyDrive/datarobot_mlops_package-7.2.1-1074 (4).tar.gz"
      ],
      "execution_count": null,
      "outputs": [
        {
          "output_type": "stream",
          "text": [
            "Mounted at /content/drive\n",
            "/bin/bash: -c: line 0: syntax error near unexpected token `('\n",
            "/bin/bash: -c: line 0: `cp - av /content/drive/MyDrive/datarobot_mlops_package-7.2.1-1074 (4).tar.gz'\n"
          ],
          "name": "stdout"
        }
      ]
    },
    {
      "cell_type": "code",
      "metadata": {
        "colab": {
          "base_uri": "https://localhost:8080/"
        },
        "id": "3oaNZSDAzMvh",
        "outputId": "6715e052-6e3a-4330-bb4a-50b52bb06487"
      },
      "source": [
        "%cp -av '/content/drive/MyDrive/datarobot_mlops_package-7.2.1-1074 (4).tar.gz' /content/"
      ],
      "execution_count": null,
      "outputs": [
        {
          "output_type": "stream",
          "text": [
            "'/content/drive/MyDrive/datarobot_mlops_package-7.2.1-1074 (4).tar.gz' -> '/content/datarobot_mlops_package-7.2.1-1074 (4).tar.gz'\n"
          ],
          "name": "stdout"
        }
      ]
    },
    {
      "cell_type": "code",
      "metadata": {
        "id": "mHwvGIukzP0C"
      },
      "source": [
        "#Un-tarring files\n",
        "import tarfile\n",
        "!tar xvzf  '/content/datarobot_mlops_package-7.2.1-1074 (4).tar.gz'"
      ],
      "execution_count": null,
      "outputs": []
    },
    {
      "cell_type": "code",
      "metadata": {
        "colab": {
          "base_uri": "https://localhost:8080/"
        },
        "id": "iwqEbD1Zzfhy",
        "outputId": "d41c19aa-aac9-4ddc-8f66-927ecc6e41d2"
      },
      "source": [
        "#Adding\n",
        "import os\n",
        "!mkdir -p tmp/ta\n",
        "!ls -l\n",
        "%cd '/content/datarobot_mlops_package-7.2.1/'\n",
        "!pwd"
      ],
      "execution_count": null,
      "outputs": [
        {
          "output_type": "stream",
          "text": [
            "total 183080\n",
            "drwxr-xr-x 9 1001 1001      4096 Jun 11 02:05  datarobot_mlops_package-7.2.1\n",
            "-rw------- 1 root root 187452328 Jul 28 04:58 'datarobot_mlops_package-7.2.1-1074 (4).tar.gz'\n",
            "drwx------ 6 root root      4096 Jul 30 00:24  drive\n",
            "drwxr-xr-x 1 root root      4096 Jul 16 13:20  sample_data\n",
            "drwxr-xr-x 3 root root      4096 Jul 30 00:26  tmp\n",
            "/content/datarobot_mlops_package-7.2.1\n",
            "/content/datarobot_mlops_package-7.2.1\n"
          ],
          "name": "stdout"
        }
      ]
    },
    {
      "cell_type": "code",
      "metadata": {
        "id": "2s_aDJm9zlhf"
      },
      "source": [
        "#InstallinG MLOps library ( Making sure to install the one for connected client as well!)\n",
        "!pip install lib/datarobot_mlops-7.2.1-py2.py3-none-any.whl\n",
        "!pip install lib/datarobot_mlops_connected_client-7.2.1-py2.py3-none-any.whl"
      ],
      "execution_count": null,
      "outputs": []
    },
    {
      "cell_type": "code",
      "metadata": {
        "id": "2ssjub8TT901"
      },
      "source": [
        ""
      ],
      "execution_count": null,
      "outputs": []
    },
    {
      "cell_type": "code",
      "metadata": {
        "colab": {
          "base_uri": "https://localhost:8080/"
        },
        "id": "eb2nNI_Pz0Y8",
        "outputId": "1202ca33-1661-42af-a4a3-46a2dd2d8687"
      },
      "source": [
        "#Editing config yaml file with rabbit mq spooler , API and URL\n",
        "%cp -av '/content/datarobot_mlops_package-7.2.1/conf/mlops.agent.conf.yaml' conf/\n"
      ],
      "execution_count": null,
      "outputs": [
        {
          "output_type": "stream",
          "text": [
            "cp: '/content/datarobot_mlops_package-7.2.1/conf/mlops.agent.conf.yaml' and 'conf/mlops.agent.conf.yaml' are the same file\n"
          ],
          "name": "stdout"
        }
      ]
    },
    {
      "cell_type": "code",
      "metadata": {
        "colab": {
          "base_uri": "https://localhost:8080/"
        },
        "id": "dLuoM7shAY_G",
        "outputId": "8e9fa9ce-0400-4978-8155-c5bb8ce6f672"
      },
      "source": [
        "#start agent\n",
        "!./bin/start-agent.sh"
      ],
      "execution_count": null,
      "outputs": [
        {
          "output_type": "stream",
          "text": [
            "INFO: AGENT_CONFIG_YAML=/content/datarobot_mlops_package-7.2.1/conf/mlops.agent.conf.yaml\n",
            "INFO: AGENT_LOG_PROPERTIES=/content/datarobot_mlops_package-7.2.1/conf/mlops.log4j2.properties\n",
            "INFO: AGENT_JVM_OPT=-Xmx1G\n",
            "INFO: AGENT_JAR_PATH=/content/datarobot_mlops_package-7.2.1/lib/mlops-agent-7.2.1.jar\n",
            "INFO: AGENT_LOG_PATH=/content/datarobot_mlops_package-7.2.1/logs/mlops.agent.log\n",
            "\n",
            "Starting MLOps-Agent\n",
            "\n",
            "\n",
            "DataRobot MLOps-Agent is running.\n"
          ],
          "name": "stdout"
        }
      ]
    },
    {
      "cell_type": "code",
      "metadata": {
        "id": "v_6y1TBMAd6i"
      },
      "source": [
        "cat /content/datarobot_mlops_package-7.2.1/logs/mlops.agent.log\n"
      ],
      "execution_count": null,
      "outputs": []
    },
    {
      "cell_type": "code",
      "metadata": {
        "id": "X3ixWuzJBg0e"
      },
      "source": [
        "from datarobot.mlops.mlops import MLOps\n",
        "from datarobot.mlops.common.enums import OutputType\n",
        "from datarobot.mlops.common.exception import DRConnectedException\n",
        "from datarobot.mlops.constants import Constants\n",
        "from datarobot.mlops.connected.client import MLOpsClient"
      ],
      "execution_count": null,
      "outputs": []
    },
    {
      "cell_type": "markdown",
      "metadata": {
        "id": "o--NW5jrUh8P"
      },
      "source": [
        ""
      ]
    },
    {
      "cell_type": "markdown",
      "metadata": {
        "id": "J0wHy2YKUuvV"
      },
      "source": [
        "# Uploading Pickle file ( A pre trained model )\n",
        "###### We need deployment ID  and Model_ID from datarobot and google project and pubsub topic id"
      ]
    },
    {
      "cell_type": "code",
      "metadata": {
        "id": "xtNoUV_1XIYu"
      },
      "source": [
        "import time\n",
        "import random\n",
        "import argparse\n",
        "import csv\n",
        "import pytz\n",
        "import datetime\n",
        "import pandas as pd\n",
        "\n",
        "deployment_id = '61013bd857c7dc0a7d94c699'\n",
        "model_id = '60f27ec00675a525ba820a32'\n",
        "project_id = \"DatarobotInterview\"\n",
        "topic_id = \"Datarobot123\"\n",
        "#spool_dir = \"/content/datarobot_mlops_package-7.2.1/tmp/ta\"\n",
        "MLOPS_FILESYSTEM_MAX_FILE_SIZE = 104857600\n",
        "MLOPS_FILESYSTEM_MAX_NUM_FILES = 5\n",
        "\n",
        "# name of the file that contains actuals\n",
        "ACTUALS_OUTPUT_FILE = \"/content/datarobot_mlops_package-7.2.1/Model/Diabetes_test - diabetes.csv\"\n",
        "\n",
        "!export MLOPS_FILESYSTEM_MAX_FILE_SIZE\n",
        "!export MLOPS_FILESYSTEM_MAX_NUM_FILES"
      ],
      "execution_count": null,
      "outputs": []
    },
    {
      "cell_type": "code",
      "metadata": {
        "id": "ywIIvKsq86D7"
      },
      "source": [
        "# MLOPS: initialize the MLOps instance\n",
        "mlops = MLOps() \\\n",
        "        .set_deployment_id(deployment_id) \\\n",
        "        .set_model_id(model_id) \\\n",
        "        .set_pubsub_spooler(project_id, topic_id) \\\n",
        "        .init()"
      ],
      "execution_count": null,
      "outputs": []
    },
    {
      "cell_type": "code",
      "metadata": {
        "id": "7z5k2mNIkJ4z"
      },
      "source": [
        "# load pickle file with model pipeline\n",
        "model = pd.read_pickle ('/content/datarobot_mlops_package-7.2.1/Model/model.pkl')\n",
        "features_df_scoring = pd.read_csv('/content/datarobot_mlops_package-7.2.1/Model/Diabetes_test - diabetes.csv')\n",
        "\n",
        "# Get predictions\n",
        "start_time = time.time()\n",
        "predictions = model.predict(features_df_scoring).tolist()\n",
        "end_time = time.time()\n",
        "\n",
        "# number of predictions\n",
        "num_predictions = len(predictions)\n",
        "\n",
        "# time required to generate the predictions\n",
        "prediction_time = end_time - start_time"
      ],
      "execution_count": null,
      "outputs": []
    },
    {
      "cell_type": "code",
      "metadata": {
        "id": "jAH1GbhkldMw"
      },
      "source": [
        "# Generate assocation ids for the predictions so we can match them with actuals\n",
        "# this is necessary for accuracy monitoring\n",
        "# The association ids are generated by taking the current time and appending a row counter to it\n",
        "def generate_unique_association_ids(num_samples):\n",
        "    ts = time.time()\n",
        "    return [\"x_{}_{}\".format(ts, i) for i in range(num_samples)]\n",
        "\n",
        "association_ids = generate_unique_association_ids(len(features_df_scoring))\n"
      ],
      "execution_count": null,
      "outputs": []
    },
    {
      "cell_type": "code",
      "metadata": {
        "id": "CbiNO4y5nolz"
      },
      "source": [
        "# MLOPS: report the number of predictions in the request and the execution time\n",
        "MLOps.report_deployment_stats(num_predictions=num_predictions, execution_time_ms=prediction_time)"
      ],
      "execution_count": null,
      "outputs": []
    },
    {
      "cell_type": "code",
      "metadata": {
        "id": "EPl7U87zsNJ9"
      },
      "source": [
        "MLOps.report_predictions_data(features_df=features_df_scoring, predictions=predictions)"
      ],
      "execution_count": null,
      "outputs": []
    },
    {
      "cell_type": "code",
      "metadata": {
        "colab": {
          "base_uri": "https://localhost:8080/"
        },
        "id": "N5fGi1mIrjiG",
        "outputId": "f8379b93-7bd1-4f19-83c5-120bb67656eb"
      },
      "source": [
        "num_predictions"
      ],
      "execution_count": null,
      "outputs": [
        {
          "output_type": "execute_result",
          "data": {
            "text/plain": [
              "442"
            ]
          },
          "metadata": {
            "tags": []
          },
          "execution_count": 41
        }
      ]
    },
    {
      "cell_type": "code",
      "metadata": {
        "colab": {
          "base_uri": "https://localhost:8080/"
        },
        "id": "I5kB7PIsrmLE",
        "outputId": "aa8a2775-c3b2-458f-da91-7337e93aa868"
      },
      "source": [
        "prediction_time"
      ],
      "execution_count": null,
      "outputs": [
        {
          "output_type": "execute_result",
          "data": {
            "text/plain": [
              "0.004504680633544922"
            ]
          },
          "metadata": {
            "tags": []
          },
          "execution_count": 42
        }
      ]
    }
  ]
}