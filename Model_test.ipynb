{
 "cells": [
  {
   "cell_type": "code",
   "execution_count": 1,
   "id": "68804281",
   "metadata": {},
   "outputs": [
    {
     "name": "stdout",
     "output_type": "stream",
     "text": [
      "[INFO]: Finished saving model...\n"
     ]
    }
   ],
   "source": [
    "from sklearn.linear_model import LinearRegression\n",
    "from sklearn.model_selection import train_test_split\n",
    "import pandas as pd\n",
    "import pickle\n",
    "\n",
    "# We load some test data\n",
    "# Dataset from https://www4.stat.ncsu.edu/~boos/var.select/diabetes.html\n",
    "df = pd.read_csv('diabetes.csv')\n",
    "\n",
    "# Init LinearRegression object / class\n",
    "lm = LinearRegression()\n",
    "\n",
    "# Set data and target\n",
    "X = df.drop('Y',1)\n",
    "y = df.iloc[:,-1]\n",
    "\n",
    "# Split our data by 70% training (for fitting) and 30% testing (for prediction)\n",
    "X_train, x_test, Y_train, y_test = train_test_split(X, y, train_size=.7)\n",
    "\n",
    "# Fit our model\n",
    "model = lm.fit(X_train, Y_train)\n",
    "\n",
    "# Save the model to disk\n",
    "model_name  = 'model.pkl'\n",
    "pickle.dump(model, open(model_name, 'wb'))\n",
    "print(\"[INFO]: Finished saving model...\")\n"
   ]
  },
  {
   "cell_type": "code",
   "execution_count": null,
   "id": "f1b5f3c0",
   "metadata": {},
   "outputs": [],
   "source": []
  }
 ],
 "metadata": {
  "kernelspec": {
   "display_name": "Python 3",
   "language": "python",
   "name": "python3"
  },
  "language_info": {
   "codemirror_mode": {
    "name": "ipython",
    "version": 3
   },
   "file_extension": ".py",
   "mimetype": "text/x-python",
   "name": "python",
   "nbconvert_exporter": "python",
   "pygments_lexer": "ipython3",
   "version": "3.8.8"
  }
 },
 "nbformat": 4,
 "nbformat_minor": 5
}
